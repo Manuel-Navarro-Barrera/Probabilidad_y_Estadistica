{
  "nbformat": 4,
  "nbformat_minor": 0,
  "metadata": {
    "colab": {
      "provenance": [],
      "authorship_tag": "ABX9TyOJb6nAF1fyImKzoolq2cEw",
      "include_colab_link": true
    },
    "kernelspec": {
      "name": "python3",
      "display_name": "Python 3"
    },
    "language_info": {
      "name": "python"
    }
  },
  "cells": [
    {
      "cell_type": "markdown",
      "metadata": {
        "id": "view-in-github",
        "colab_type": "text"
      },
      "source": [
        "<a href=\"https://colab.research.google.com/github/Manuel-Navarro-Barrera/Probabilidad_y_Estadistica/blob/main/Practica_1_Estadistica_Descriptiva_basica_e_Histogramas.ipynb\" target=\"_parent\"><img src=\"https://colab.research.google.com/assets/colab-badge.svg\" alt=\"Open In Colab\"/></a>"
      ]
    },
    {
      "cell_type": "markdown",
      "source": [
        "# Practica 1 Estadistica Descriptiva basica e Histogramas"
      ],
      "metadata": {
        "id": "I3qUKY4gwBlF"
      }
    },
    {
      "cell_type": "code",
      "source": [
        "from statistics import *"
      ],
      "metadata": {
        "id": "sjPuLChjwHri"
      },
      "execution_count": null,
      "outputs": []
    },
    {
      "cell_type": "code",
      "source": [
        "# Lista de Calificaciones del grupo de Probabilidad y estadistica\n",
        "grupoa = [70, 70, 65, 90, 100, 95, 45, 80, 73, 20, 100, 96]\n",
        "print(grupoa)"
      ],
      "metadata": {
        "colab": {
          "base_uri": "https://localhost:8080/"
        },
        "id": "H4PAYVHDwXFl",
        "outputId": "52de9c85-bc22-449d-a7ea-90fd77f758ca"
      },
      "execution_count": 1,
      "outputs": [
        {
          "output_type": "stream",
          "name": "stdout",
          "text": [
            "[70, 70, 65, 90, 100, 95, 45, 80, 73, 20, 100, 96]\n"
          ]
        }
      ]
    },
    {
      "cell_type": "code",
      "source": [
        "# la funcion type nos devuelve el tipo de dato de la variable\n",
        "type(grupoa)"
      ],
      "metadata": {
        "colab": {
          "base_uri": "https://localhost:8080/"
        },
        "id": "l9lcdX_Nw9P_",
        "outputId": "a82920de-7055-4636-c7de-f3f5dfad5409"
      },
      "execution_count": 23,
      "outputs": [
        {
          "output_type": "execute_result",
          "data": {
            "text/plain": [
              "list"
            ]
          },
          "metadata": {},
          "execution_count": 23
        }
      ]
    },
    {
      "cell_type": "code",
      "source": [
        "# Sacar la media de las calificaciones del grupo\n",
        "promedio = sum(grupoa) / len(grupoa)\n",
        "print(promedio)"
      ],
      "metadata": {
        "colab": {
          "base_uri": "https://localhost:8080/"
        },
        "id": "_c2e7m67xhLD",
        "outputId": "11da274b-f57b-4b7e-e287-85fa1a6aa1e4"
      },
      "execution_count": 26,
      "outputs": [
        {
          "output_type": "stream",
          "name": "stdout",
          "text": [
            "75.33333333333333\n"
          ]
        }
      ]
    },
    {
      "cell_type": "code",
      "source": [
        "promedio2 = mean(grupoa)\n",
        "print(promedio2)"
      ],
      "metadata": {
        "collapsed": true,
        "id": "eLxcsgJnzyrt"
      },
      "execution_count": null,
      "outputs": []
    },
    {
      "cell_type": "code",
      "source": [
        "mediana = median(grupoa)\n",
        "print(mediana)"
      ],
      "metadata": {
        "id": "9knRjeePzHhj"
      },
      "execution_count": null,
      "outputs": []
    },
    {
      "cell_type": "code",
      "source": [
        "moda = mode(grupoa)\n",
        "print(moda)"
      ],
      "metadata": {
        "id": "CB4-2OT7zlT8"
      },
      "execution_count": null,
      "outputs": []
    },
    {
      "cell_type": "code",
      "source": [
        "moda2 = multimode(grupoa)\n",
        "print(moda2)"
      ],
      "metadata": {
        "id": "p0tQeYduz_JD"
      },
      "execution_count": null,
      "outputs": []
    },
    {
      "cell_type": "code",
      "source": [
        "tiempos100mts =[15.10, 17.20, 14.69, 13.27, 22.15, 18.71, 19.15, 20.65,\n",
        "                15.10, 17.20]\n",
        "\n",
        "print(tiempos100mts)"
      ],
      "metadata": {
        "colab": {
          "base_uri": "https://localhost:8080/"
        },
        "id": "62wb8y360gAn",
        "outputId": "1497d0e4-2bcd-4b6e-9ecd-db0c5513bf08"
      },
      "execution_count": 15,
      "outputs": [
        {
          "output_type": "stream",
          "name": "stdout",
          "text": [
            "[15.1, 17.2, 14.69, 13.27, 22.15, 18.71, 19.15, 20.65, 15.1, 17.2]\n"
          ]
        }
      ]
    },
    {
      "cell_type": "code",
      "source": [
        "print(\"El tiempo promedio de los corredores es=>\", mean(tiempos100mts))"
      ],
      "metadata": {
        "id": "khDntP5A1aWD"
      },
      "execution_count": null,
      "outputs": []
    },
    {
      "cell_type": "code",
      "source": [
        "fabrica1 = []\n",
        "for i in range(100):\n",
        "    numero_aleatorio = round(random.unirform(50, 100), 2)\n",
        "    fabrica1.append(numero_aleatorio)\n",
        "print(fabrica1)"
      ],
      "metadata": {
        "id": "Nt5azRMU4IsT"
      },
      "execution_count": null,
      "outputs": []
    },
    {
      "cell_type": "code",
      "source": [
        "# libreria de python para graficar valores\n",
        "import matplotlib.pyplot as plt"
      ],
      "metadata": {
        "id": "N2OGVcY05OPC"
      },
      "execution_count": null,
      "outputs": []
    },
    {
      "cell_type": "code",
      "source": [
        "plt.hist(fabrica1)\n",
        "plt.title(\"Produccion diaria de la fabrica \")"
      ],
      "metadata": {
        "id": "hc6s14sF5amY"
      },
      "execution_count": null,
      "outputs": []
    }
  ]
}