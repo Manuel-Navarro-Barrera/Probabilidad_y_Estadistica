{
  "nbformat": 4,
  "nbformat_minor": 0,
  "metadata": {
    "colab": {
      "provenance": [],
      "authorship_tag": "ABX9TyPwP0bsW18IkK85g36mZkZr",
      "include_colab_link": true
    },
    "kernelspec": {
      "name": "python3",
      "display_name": "Python 3"
    },
    "language_info": {
      "name": "python"
    }
  },
  "cells": [
    {
      "cell_type": "markdown",
      "metadata": {
        "id": "view-in-github",
        "colab_type": "text"
      },
      "source": [
        "<a href=\"https://colab.research.google.com/github/Manuel-Navarro-Barrera/Probabilidad_y_Estadistica/blob/main/Unidad%201/Practica_1_Estadistica_Descriptiva_basica_e_Histogramas.ipynb\" target=\"_parent\"><img src=\"https://colab.research.google.com/assets/colab-badge.svg\" alt=\"Open In Colab\"/></a>"
      ]
    },
    {
      "cell_type": "markdown",
      "source": [
        "# **Practica 1 Estadistica Descriptiva basica e Histogramas**"
      ],
      "metadata": {
        "id": "I3qUKY4gwBlF"
      }
    },
    {
      "cell_type": "code",
      "source": [
        "from statistics import mean, median, mode, multimode\n",
        "import random"
      ],
      "metadata": {
        "id": "sjPuLChjwHri"
      },
      "execution_count": 12,
      "outputs": []
    },
    {
      "cell_type": "code",
      "source": [
        "# Lista de Calificaciones del grupo de Probabilidad y estadistica\n",
        "grupoa = [70, 70, 65, 90, 100, 95, 45, 80, 73, 20, 100, 96]\n",
        "print(grupoa)"
      ],
      "metadata": {
        "colab": {
          "base_uri": "https://localhost:8080/"
        },
        "id": "H4PAYVHDwXFl",
        "outputId": "ea396890-aa6c-452d-fcb4-75a74d0185e0"
      },
      "execution_count": 3,
      "outputs": [
        {
          "output_type": "stream",
          "name": "stdout",
          "text": [
            "[70, 70, 65, 90, 100, 95, 45, 80, 73, 20, 100, 96]\n"
          ]
        }
      ]
    },
    {
      "cell_type": "code",
      "source": [
        "# la funcion type nos devuelve el tipo de dato de la variable\n",
        "type(grupoa)"
      ],
      "metadata": {
        "colab": {
          "base_uri": "https://localhost:8080/"
        },
        "id": "l9lcdX_Nw9P_",
        "outputId": "4d440f0d-c697-4058-dd94-259aba8ccf37"
      },
      "execution_count": 4,
      "outputs": [
        {
          "output_type": "execute_result",
          "data": {
            "text/plain": [
              "list"
            ]
          },
          "metadata": {},
          "execution_count": 4
        }
      ]
    },
    {
      "cell_type": "code",
      "source": [
        "# Sacar la media de las calificaciones del grupo\n",
        "promedio = sum(grupoa) / len(grupoa)\n",
        "print(promedio)"
      ],
      "metadata": {
        "colab": {
          "base_uri": "https://localhost:8080/"
        },
        "id": "_c2e7m67xhLD",
        "outputId": "53042dbc-2ff8-4298-cb44-dba4820b0602"
      },
      "execution_count": 13,
      "outputs": [
        {
          "output_type": "stream",
          "name": "stdout",
          "text": [
            "75.33333333333333\n"
          ]
        }
      ]
    },
    {
      "cell_type": "code",
      "source": [
        "promedio2 = mean(grupoa)\n",
        "print(promedio2)"
      ],
      "metadata": {
        "collapsed": true,
        "id": "eLxcsgJnzyrt",
        "colab": {
          "base_uri": "https://localhost:8080/"
        },
        "outputId": "748f7b51-28ea-4a58-d124-8abaa29fa913"
      },
      "execution_count": 14,
      "outputs": [
        {
          "output_type": "stream",
          "name": "stdout",
          "text": [
            "75.33333333333333\n"
          ]
        }
      ]
    },
    {
      "cell_type": "code",
      "source": [
        "mediana1 = median(grupoa)\n",
        "print(mediana1)"
      ],
      "metadata": {
        "id": "9knRjeePzHhj",
        "colab": {
          "base_uri": "https://localhost:8080/"
        },
        "outputId": "5ecd750d-d60f-4e1d-a5db-ed55fcc0b262"
      },
      "execution_count": 16,
      "outputs": [
        {
          "output_type": "stream",
          "name": "stdout",
          "text": [
            "76.5\n"
          ]
        }
      ]
    },
    {
      "cell_type": "code",
      "source": [
        "moda1 = mode(grupoa)\n",
        "print(moda1)"
      ],
      "metadata": {
        "id": "CB4-2OT7zlT8",
        "colab": {
          "base_uri": "https://localhost:8080/"
        },
        "outputId": "19c8d9f3-5916-4af6-e385-9bb535169790"
      },
      "execution_count": 17,
      "outputs": [
        {
          "output_type": "stream",
          "name": "stdout",
          "text": [
            "70\n"
          ]
        }
      ]
    },
    {
      "cell_type": "code",
      "source": [
        "moda2 = multimode(grupoa)\n",
        "print(moda2)"
      ],
      "metadata": {
        "id": "p0tQeYduz_JD",
        "colab": {
          "base_uri": "https://localhost:8080/"
        },
        "outputId": "42b0b397-d3fc-466e-e191-2889ee7b719d"
      },
      "execution_count": 18,
      "outputs": [
        {
          "output_type": "stream",
          "name": "stdout",
          "text": [
            "[70, 100]\n"
          ]
        }
      ]
    },
    {
      "cell_type": "code",
      "source": [
        "tiempos100mts =[15.10, 17.20, 14.69, 13.27, 22.15, 18.71, 19.15, 20.65,\n",
        "                15.10, 17.20]\n",
        "\n",
        "print(tiempos100mts)"
      ],
      "metadata": {
        "colab": {
          "base_uri": "https://localhost:8080/"
        },
        "id": "62wb8y360gAn",
        "outputId": "5a49a28a-def9-4d1d-cfe1-3f2774800746"
      },
      "execution_count": 19,
      "outputs": [
        {
          "output_type": "stream",
          "name": "stdout",
          "text": [
            "[15.1, 17.2, 14.69, 13.27, 22.15, 18.71, 19.15, 20.65, 15.1, 17.2]\n"
          ]
        }
      ]
    },
    {
      "cell_type": "code",
      "source": [
        "print(\"El tiempo promedio de los corredores es=>\", mean(tiempos100mts))"
      ],
      "metadata": {
        "id": "khDntP5A1aWD",
        "colab": {
          "base_uri": "https://localhost:8080/"
        },
        "outputId": "fd7c7fa2-886d-4fab-9e59-593ce6cf1e7d"
      },
      "execution_count": 20,
      "outputs": [
        {
          "output_type": "stream",
          "name": "stdout",
          "text": [
            "El tiempo promedio de los corredores es=> 17.322\n"
          ]
        }
      ]
    },
    {
      "cell_type": "code",
      "source": [
        "fabrica1 = []\n",
        "for i in range(100):\n",
        "    numero_aleatorio = round(random.uniform(50, 100), 2)\n",
        "    fabrica1.append(numero_aleatorio)\n",
        "print(fabrica1)"
      ],
      "metadata": {
        "id": "Nt5azRMU4IsT",
        "colab": {
          "base_uri": "https://localhost:8080/"
        },
        "outputId": "69ed3e8a-7072-4fad-b407-acfe6a88fbb0"
      },
      "execution_count": 24,
      "outputs": [
        {
          "output_type": "stream",
          "name": "stdout",
          "text": [
            "[86.83, 86.51, 99.33, 96.25, 96.45, 65.75, 71.42, 90.05, 80.89, 98.23, 79.08, 84.36, 94.06, 58.45, 93.39, 89.85, 76.87, 63.37, 89.81, 82.62, 76.64, 93.54, 65.81, 60.11, 91.96, 69.23, 77.34, 78.98, 88.85, 50.16, 95.67, 69.16, 84.7, 65.01, 58.61, 94.61, 67.95, 99.09, 91.57, 66.25, 91.24, 80.97, 53.0, 84.12, 74.78, 56.84, 56.94, 55.89, 85.97, 89.22, 75.56, 50.82, 53.73, 91.86, 71.38, 77.68, 67.03, 66.21, 53.72, 85.74, 63.68, 89.54, 84.43, 74.06, 85.67, 63.76, 57.38, 89.96, 62.72, 82.72, 99.94, 52.34, 92.6, 79.56, 89.5, 58.06, 86.62, 65.29, 57.05, 89.43, 92.09, 64.35, 77.34, 72.97, 57.4, 82.83, 97.28, 67.82, 95.53, 56.03, 87.84, 71.62, 78.38, 86.22, 76.32, 66.02, 88.65, 94.3, 96.55, 63.12]\n"
          ]
        }
      ]
    },
    {
      "cell_type": "code",
      "source": [
        "# libreria de python para graficar valores\n",
        "import matplotlib.pyplot as plt"
      ],
      "metadata": {
        "id": "N2OGVcY05OPC"
      },
      "execution_count": 25,
      "outputs": []
    },
    {
      "cell_type": "code",
      "source": [
        "plt.hist(fabrica1)\n",
        "plt.title(\"Produccion diaria de la fabrica \")"
      ],
      "metadata": {
        "id": "hc6s14sF5amY",
        "colab": {
          "base_uri": "https://localhost:8080/",
          "height": 469
        },
        "outputId": "99140728-c113-4ffc-8fcc-0817640c07c9"
      },
      "execution_count": 26,
      "outputs": [
        {
          "output_type": "execute_result",
          "data": {
            "text/plain": [
              "Text(0.5, 1.0, 'Produccion diaria de la fabrica ')"
            ]
          },
          "metadata": {},
          "execution_count": 26
        },
        {
          "output_type": "display_data",
          "data": {
            "text/plain": [
              "<Figure size 640x480 with 1 Axes>"
            ],
            "image/png": "[encoded data removed]"
          },
          "metadata": {}
        }
      ]
    },
    {
      "cell_type": "code",
      "source": [
        "media1 = mean(fabrica1)\n",
        "mediana1 = median(fabrica1)\n",
        "moda1 = mode(fabrica1)\n",
        "\n",
        "print(\"Valores de la fabrica 1\")\n",
        "print(\"la Media es: \", media1)\n",
        "print(\"la Mediana es: \", mediana1)\n",
        "print(\"la Moda es: \", moda1)"
      ],
      "metadata": {
        "colab": {
          "base_uri": "https://localhost:8080/"
        },
        "id": "oT_oJyd05Wtq",
        "outputId": "4bd221d4-20c7-41b4-c976-fe413acf438e"
      },
      "execution_count": 27,
      "outputs": [
        {
          "output_type": "stream",
          "name": "stdout",
          "text": [
            "Valores de la fabrica 1\n",
            "la Media es:  77.4848\n",
            "la Mediana es:  79.03\n",
            "la Moda es:  77.34\n"
          ]
        }
      ]
    },
    {
      "cell_type": "code",
      "source": [
        "media2 = mean(grupoa)\n",
        "print(media2)"
      ],
      "metadata": {
        "colab": {
          "base_uri": "https://localhost:8080/"
        },
        "id": "R-WM8-pw72to",
        "outputId": "e71b8aba-fc12-48f3-9381-d935f8855399"
      },
      "execution_count": 28,
      "outputs": [
        {
          "output_type": "stream",
          "name": "stdout",
          "text": [
            "75.33333333333333\n"
          ]
        }
      ]
    },
    {
      "cell_type": "code",
      "source": [
        "mediana2 = median(grupoa)\n",
        "print(mediana2)"
      ],
      "metadata": {
        "colab": {
          "base_uri": "https://localhost:8080/"
        },
        "id": "44SXcG5q76_D",
        "outputId": "252eaa3a-a41a-4001-de21-c5424ac39964"
      },
      "execution_count": 29,
      "outputs": [
        {
          "output_type": "stream",
          "name": "stdout",
          "text": [
            "76.5\n"
          ]
        }
      ]
    },
    {
      "cell_type": "code",
      "source": [
        "moda2 = multimode(grupoa)\n",
        "print(moda2)"
      ],
      "metadata": {
        "colab": {
          "base_uri": "https://localhost:8080/"
        },
        "id": "xFW8-1hR72yj",
        "outputId": "54d7f6ee-4774-4269-9d7d-6deeb1cff3ab"
      },
      "execution_count": 30,
      "outputs": [
        {
          "output_type": "stream",
          "name": "stdout",
          "text": [
            "[70, 100]\n"
          ]
        }
      ]
    },
    {
      "cell_type": "code",
      "source": [
        "fabrica2 = []\n",
        "for i in range(100):\n",
        "    numero_aleatorio = round(random.uniform(50, 100), 2)\n",
        "    fabrica2.append(numero_aleatorio)\n",
        "print(fabrica2)"
      ],
      "metadata": {
        "colab": {
          "base_uri": "https://localhost:8080/"
        },
        "id": "zJU_8l2j728M",
        "outputId": "101f9d7f-4d8e-437e-b196-fd0e09d7327e"
      },
      "execution_count": 33,
      "outputs": [
        {
          "output_type": "stream",
          "name": "stdout",
          "text": [
            "[66.82, 60.41, 93.95, 62.19, 69.21, 67.88, 80.57, 52.64, 75.19, 51.09, 73.55, 62.89, 84.07, 98.47, 56.69, 51.06, 53.73, 96.47, 62.86, 73.81, 64.18, 86.67, 69.06, 90.32, 57.56, 72.08, 54.7, 83.4, 93.52, 80.81, 70.01, 94.11, 88.06, 87.56, 75.08, 50.24, 50.91, 67.32, 96.08, 71.42, 56.29, 57.42, 98.28, 99.4, 93.06, 83.41, 88.11, 97.76, 76.65, 81.25, 64.41, 79.64, 73.37, 74.54, 86.23, 63.21, 77.91, 89.93, 57.82, 74.58, 51.05, 62.83, 60.27, 58.89, 73.58, 71.31, 59.55, 69.56, 65.47, 81.06, 55.48, 51.42, 71.8, 99.44, 83.53, 71.36, 73.64, 86.39, 59.5, 58.13, 64.42, 61.8, 82.19, 88.66, 89.34, 89.16, 52.22, 91.16, 96.77, 63.4, 73.63, 82.73, 67.98, 59.97, 91.31, 71.84, 90.59, 95.75, 90.46, 69.85]\n"
          ]
        }
      ]
    },
    {
      "cell_type": "code",
      "source": [
        "plt.hist(fabrica2)\n",
        "plt.title(\"Produccion diaria de la fabrica 2 \")"
      ],
      "metadata": {
        "colab": {
          "base_uri": "https://localhost:8080/",
          "height": 469
        },
        "id": "MYpq8_Ej806t",
        "outputId": "a331f20a-cf86-4441-94fd-e60a8b5b68d1"
      },
      "execution_count": 35,
      "outputs": [
        {
          "output_type": "execute_result",
          "data": {
            "text/plain": [
              "Text(0.5, 1.0, 'Produccion diaria de la fabrica 2 ')"
            ]
          },
          "metadata": {},
          "execution_count": 35
        },
        {
          "output_type": "display_data",
          "data": {
            "text/plain": [
              "<Figure size 640x480 with 1 Axes>"
            ],
            "image/png": "[encoded data removed]"
          },
          "metadata": {}
        }
      ]
    },
    {
      "cell_type": "code",
      "source": [
        "media2 = mean(fabrica1)\n",
        "mediana2 = median(fabrica1)\n",
        "moda2 = mode(fabrica1)\n",
        "\n",
        "print(\"Valores de la fabrica 2\")\n",
        "print(\"la Media es: \", media2)\n",
        "print(\"la Mediana es: \", mediana2)\n",
        "print(\"la Moda es: \", moda2)"
      ],
      "metadata": {
        "colab": {
          "base_uri": "https://localhost:8080/"
        },
        "id": "9XrX45wP8fZn",
        "outputId": "44a80e7f-52ee-4729-a43a-93b04d8e3f10"
      },
      "execution_count": 34,
      "outputs": [
        {
          "output_type": "stream",
          "name": "stdout",
          "text": [
            "Valores de la fabrica 2\n",
            "la Media es:  75.9073\n",
            "la Mediana es:  76.985\n",
            "la Moda es:  77.34\n"
          ]
        }
      ]
    },
    {
      "cell_type": "code",
      "source": [
        "# generar 2 subplotde 1 renglon por dos columnas para desplegar los 2 histogramas\n",
        "# una al lado de la otra\n",
        "fig, (ax1, ax2) = plt.subplots(nrows =1, ncols=2, figsize=(10, 5))\n",
        "ax1.hist(fabrica1)\n",
        "ax2.hist(fabrica2)\n",
        "plt.show()"
      ],
      "metadata": {
        "colab": {
          "base_uri": "https://localhost:8080/",
          "height": 445
        },
        "id": "WdcMLnPU9Acy",
        "outputId": "d5f1370f-a1d9-417f-cb52-862c1d7cdb2c"
      },
      "execution_count": 36,
      "outputs": [
        {
          "output_type": "display_data",
          "data": {
            "text/plain": [
              "<Figure size 1000x500 with 2 Axes>"
            ],
            "image/png": "[encoded data removed]"
          },
          "metadata": {}
        }
      ]
    },
    {
      "cell_type": "code",
      "source": [
        "plt.hist(fabrica1, bins=10, alpha=0.2, color='b', edgecolor = 'black')\n",
        "plt.axvline(media1, color='b', linestyle='dashed', linewidth=2, label= 'Media')\n",
        "plt.axvline(mediana1, color='g', linestyle='dashed', linewidth=2, label= 'Mediana')\n",
        "plt.axvline(moda1, color='r', linestyle='dashed', linewidth=2, label= 'Moda')\n",
        "plt.xlabel('Valor')\n",
        "plt.ylabel('Frecuencia')\n",
        "plt.title('Produccion diaria de la fabrica 1')\n",
        "plt.legend()\n",
        "plt.show()"
      ],
      "metadata": {
        "colab": {
          "base_uri": "https://localhost:8080/",
          "height": 472
        },
        "id": "RrAbhT_d9zTO",
        "outputId": "8c525915-2cba-4ab1-8640-790e0447879a"
      },
      "execution_count": 38,
      "outputs": [
        {
          "output_type": "display_data",
          "data": {
            "text/plain": [
              "<Figure size 640x480 with 1 Axes>"
            ],
            "image/png": "[encoded data removed]"
          },
          "metadata": {}
        }
      ]
    },
    {
      "cell_type": "code",
      "source": [
        "plt.hist(fabrica2, bins=10, alpha=0.2, color='b', edgecolor = 'black')\n",
        "plt.axvline(media2, color='b', linestyle='dashed', linewidth=2, label= 'Media')\n",
        "plt.axvline(mediana2, color='g', linestyle='dashed', linewidth=2, label= 'Mediana')\n",
        "plt.axvline(moda2, color='r', linestyle='dashed', linewidth=2, label= 'Moda')\n",
        "plt.xlabel('Valor')\n",
        "plt.ylabel('Frecuencia')\n",
        "plt.title('Produccion diaria de la fabrica 2')\n",
        "plt.legend()\n",
        "plt.show()"
      ],
      "metadata": {
        "colab": {
          "base_uri": "https://localhost:8080/",
          "height": 472
        },
        "id": "jp3U4zTL_bt_",
        "outputId": "ffd12d71-b7bf-4cf9-bc04-15e3f2a48238"
      },
      "execution_count": 39,
      "outputs": [
        {
          "output_type": "display_data",
          "data": {
            "text/plain": [
              "<Figure size 640x480 with 1 Axes>"
            ],
            "image/png": "[encoded data removed]"
          },
          "metadata": {}
        }
      ]
    }
  ]
}