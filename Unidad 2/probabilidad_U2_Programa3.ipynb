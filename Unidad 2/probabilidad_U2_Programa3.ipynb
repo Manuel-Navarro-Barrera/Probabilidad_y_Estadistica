{
  "nbformat": 4,
  "nbformat_minor": 0,
  "metadata": {
    "colab": {
      "provenance": [],
      "authorship_tag": "ABX9TyM0Hnrn6y4pIcckuNuUE2rz",
      "include_colab_link": true
    },
    "kernelspec": {
      "name": "python3",
      "display_name": "Python 3"
    },
    "language_info": {
      "name": "python"
    }
  },
  "cells": [
    {
      "cell_type": "markdown",
      "metadata": {
        "id": "view-in-github",
        "colab_type": "text"
      },
      "source": [
        "<a href=\"https://colab.research.google.com/github/Manuel-Navarro-Barrera/Probabilidad_y_Estadistica/blob/main/Unidad%202/probabilidad_U2_Programa3.ipynb\" target=\"_parent\"><img src=\"https://colab.research.google.com/assets/colab-badge.svg\" alt=\"Open In Colab\"/></a>"
      ]
    },
    {
      "cell_type": "code",
      "execution_count": 2,
      "metadata": {
        "colab": {
          "base_uri": "https://localhost:8080/"
        },
        "id": "9ILJ8rGFQ-gp",
        "outputId": "788e41bf-2607-4105-ab2e-71db1682fd0f"
      },
      "outputs": [
        {
          "output_type": "stream",
          "name": "stdout",
          "text": [
            "El número de maneras de elegir los asistentes es: 5040\n"
          ]
        }
      ],
      "source": [
        "import math\n",
        "\n",
        "n= 10 # Tamaño del Grupo\n",
        "r = 4 # Tamaño del Subconjunto\n",
        "\n",
        "# Calcular permutaciones usando la fórmula P(n, r) = n! / (n - r)!\n",
        "permutaciones = math.perm(n, r)\n",
        "\n",
        "# Se muestra el resultado\n",
        "print(f\"El número de maneras de elegir los asistentes es: {permutaciones}\")"
      ]
    }
  ]
}