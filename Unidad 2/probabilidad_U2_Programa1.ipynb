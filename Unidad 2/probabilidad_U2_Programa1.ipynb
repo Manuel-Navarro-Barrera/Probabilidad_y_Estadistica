{
  "nbformat": 4,
  "nbformat_minor": 0,
  "metadata": {
    "colab": {
      "provenance": [],
      "authorship_tag": "ABX9TyON33s7693UMYe4PaYkoxOO",
      "include_colab_link": true
    },
    "kernelspec": {
      "name": "python3",
      "display_name": "Python 3"
    },
    "language_info": {
      "name": "python"
    }
  },
  "cells": [
    {
      "cell_type": "markdown",
      "metadata": {
        "id": "view-in-github",
        "colab_type": "text"
      },
      "source": [
        "<a href=\"https://colab.research.google.com/github/Manuel-Navarro-Barrera/Probabilidad_y_Estadistica/blob/main/Unidad%202/probabilidad_U2_Programa1.ipynb\" target=\"_parent\"><img src=\"https://colab.research.google.com/assets/colab-badge.svg\" alt=\"Open In Colab\"/></a>"
      ]
    },
    {
      "cell_type": "code",
      "execution_count": 1,
      "metadata": {
        "id": "J51aCnwhpRQ1"
      },
      "outputs": [],
      "source": [
        "import math as mt\n",
        "from itertools import combinations\n",
        "from itertools import combinations_with_replacement\n",
        "import numpy as np"
      ]
    },
    {
      "cell_type": "code",
      "source": [
        "nombres = [\"Oscar\", \"Paco\", \"Paty\", \"Laura\", \"Ruben\", \"Luis\", \"Lucy\", \"Alberto\", \"Juan\", \"Danny\"]\n",
        "n = len(nombres)\n",
        "r = 2\n",
        "\n",
        "Cn = mt.factorial(n) / (mt.factorial(n-r) * mt.factorial(r))\n",
        "print (\"Existen \", Cn, \"posibles combinaciones sin repeticion del total de \",\n",
        "       n, \"nombres \", \"en grupos de \", r ,\" en \", r)\n",
        "\n",
        "print (\"Aqui las combinaciones\")\n",
        "combinaciones_nombres = list(combinations(nombres, r))\n",
        "\n",
        "for combinacion in combinaciones_nombres:\n",
        "    print (combinacion)"
      ],
      "metadata": {
        "colab": {
          "base_uri": "https://localhost:8080/"
        },
        "id": "hxA6eVDmpvse",
        "outputId": "96e32d3e-914b-4985-9ef6-da8b670adc78"
      },
      "execution_count": 2,
      "outputs": [
        {
          "output_type": "stream",
          "name": "stdout",
          "text": [
            "Existen  45.0 posibles combinaciones sin repeticion del total de  10 nombres  en grupos de  2  en  2\n",
            "Aqui las combinaciones\n",
            "('Oscar', 'Paco')\n",
            "('Oscar', 'Paty')\n",
            "('Oscar', 'Laura')\n",
            "('Oscar', 'Ruben')\n",
            "('Oscar', 'Luis')\n",
            "('Oscar', 'Lucy')\n",
            "('Oscar', 'Alberto')\n",
            "('Oscar', 'Juan')\n",
            "('Oscar', 'Danny')\n",
            "('Paco', 'Paty')\n",
            "('Paco', 'Laura')\n",
            "('Paco', 'Ruben')\n",
            "('Paco', 'Luis')\n",
            "('Paco', 'Lucy')\n",
            "('Paco', 'Alberto')\n",
            "('Paco', 'Juan')\n",
            "('Paco', 'Danny')\n",
            "('Paty', 'Laura')\n",
            "('Paty', 'Ruben')\n",
            "('Paty', 'Luis')\n",
            "('Paty', 'Lucy')\n",
            "('Paty', 'Alberto')\n",
            "('Paty', 'Juan')\n",
            "('Paty', 'Danny')\n",
            "('Laura', 'Ruben')\n",
            "('Laura', 'Luis')\n",
            "('Laura', 'Lucy')\n",
            "('Laura', 'Alberto')\n",
            "('Laura', 'Juan')\n",
            "('Laura', 'Danny')\n",
            "('Ruben', 'Luis')\n",
            "('Ruben', 'Lucy')\n",
            "('Ruben', 'Alberto')\n",
            "('Ruben', 'Juan')\n",
            "('Ruben', 'Danny')\n",
            "('Luis', 'Lucy')\n",
            "('Luis', 'Alberto')\n",
            "('Luis', 'Juan')\n",
            "('Luis', 'Danny')\n",
            "('Lucy', 'Alberto')\n",
            "('Lucy', 'Juan')\n",
            "('Lucy', 'Danny')\n",
            "('Alberto', 'Juan')\n",
            "('Alberto', 'Danny')\n",
            "('Juan', 'Danny')\n"
          ]
        }
      ]
    },
    {
      "cell_type": "code",
      "source": [
        "caracteres = [\"A\", \"B\", \"C\", \"D\", \"E\", \"F\", \"1\", \"2\", \"3\", \"4\", \"5\"]\n",
        "n = len (caracteres)\n",
        "r = 10\n",
        "\n",
        "print(\"Existen \", Cn , \" posibles combinaciones sin repeticion del total de \", n ,\n",
        "      \" caracteres\", \" en grupos de \", r, \" en \", r)\n",
        "\n",
        "print (\"Aqui las combinaciones\")\n",
        "combinaciones_caracteres = list(combinations(caracteres, r))\n",
        "\n",
        "for combinacion in combinaciones_caracteres:\n",
        "    print (combinacion)"
      ],
      "metadata": {
        "colab": {
          "base_uri": "https://localhost:8080/"
        },
        "id": "XdJeF13Xrres",
        "outputId": "256a984b-f312-48c5-f215-3e002b9cb50c"
      },
      "execution_count": 3,
      "outputs": [
        {
          "output_type": "stream",
          "name": "stdout",
          "text": [
            "Existen  45.0  posibles combinaciones sin repeticion del total de  11  caracteres  en grupos de  10  en  10\n",
            "Aqui las combinaciones\n",
            "('A', 'B', 'C', 'D', 'E', 'F', '1', '2', '3', '4')\n",
            "('A', 'B', 'C', 'D', 'E', 'F', '1', '2', '3', '5')\n",
            "('A', 'B', 'C', 'D', 'E', 'F', '1', '2', '4', '5')\n",
            "('A', 'B', 'C', 'D', 'E', 'F', '1', '3', '4', '5')\n",
            "('A', 'B', 'C', 'D', 'E', 'F', '2', '3', '4', '5')\n",
            "('A', 'B', 'C', 'D', 'E', '1', '2', '3', '4', '5')\n",
            "('A', 'B', 'C', 'D', 'F', '1', '2', '3', '4', '5')\n",
            "('A', 'B', 'C', 'E', 'F', '1', '2', '3', '4', '5')\n",
            "('A', 'B', 'D', 'E', 'F', '1', '2', '3', '4', '5')\n",
            "('A', 'C', 'D', 'E', 'F', '1', '2', '3', '4', '5')\n",
            "('B', 'C', 'D', 'E', 'F', '1', '2', '3', '4', '5')\n"
          ]
        }
      ]
    },
    {
      "cell_type": "code",
      "source": [
        "dado = [1, 2 , 3, 4, 5, 6]\n",
        "n = len (dado)\n",
        "r = 2\n",
        "\n",
        "CnR = mt.factorial(n+r-1) / (mt.factorial(r) * mt.factorial((n+r-1) -r))\n",
        "print(\"Existen \", CnR , \" posibles combinaciones sin repeticion del total de \", n ,\n",
        "      \" caracteres \", \" en grupos de \", r, \" en \", r)\n",
        "print (\"Aqui las combinaciones con repeticion de dos dados\")\n",
        "combinaciones_dado = list(combinations(dado, r))\n",
        "\n",
        "elementos = [1, 2, 3, 4, 5, 6]\n",
        "\n",
        "r = 2\n",
        "\n",
        "combinaciones_dado = list(combinations_with_replacement(dado, r))\n",
        "\n",
        "for combinacion in combinaciones_dado:\n",
        "    print (combinacion)"
      ],
      "metadata": {
        "id": "0CgvsttTtABp",
        "colab": {
          "base_uri": "https://localhost:8080/"
        },
        "outputId": "60a04f6d-34e4-43a8-a277-0b64ef8200c1"
      },
      "execution_count": 4,
      "outputs": [
        {
          "output_type": "stream",
          "name": "stdout",
          "text": [
            "Existen  21.0  posibles combinaciones sin repeticion del total de  6  caracteres   en grupos de  2  en  2\n",
            "Aqui las combinaciones con repeticion de dos dados\n",
            "(1, 1)\n",
            "(1, 2)\n",
            "(1, 3)\n",
            "(1, 4)\n",
            "(1, 5)\n",
            "(1, 6)\n",
            "(2, 2)\n",
            "(2, 3)\n",
            "(2, 4)\n",
            "(2, 5)\n",
            "(2, 6)\n",
            "(3, 3)\n",
            "(3, 4)\n",
            "(3, 5)\n",
            "(3, 6)\n",
            "(4, 4)\n",
            "(4, 5)\n",
            "(4, 6)\n",
            "(5, 5)\n",
            "(5, 6)\n",
            "(6, 6)\n"
          ]
        }
      ]
    }
  ]
}