{
  "nbformat": 4,
  "nbformat_minor": 0,
  "metadata": {
    "colab": {
      "provenance": [],
      "authorship_tag": "ABX9TyOmnPRaV7Ed+qomRgC3D4kW",
      "include_colab_link": true
    },
    "kernelspec": {
      "name": "python3",
      "display_name": "Python 3"
    },
    "language_info": {
      "name": "python"
    }
  },
  "cells": [
    {
      "cell_type": "markdown",
      "metadata": {
        "id": "view-in-github",
        "colab_type": "text"
      },
      "source": [
        "<a href=\"https://colab.research.google.com/github/Manuel-Navarro-Barrera/Probabilidad_y_Estadistica/blob/main/Unidad%204/Problemas_de_Distribuci%C3%B3n_de_Poisson_y_Binomial.ipynb\" target=\"_parent\"><img src=\"https://colab.research.google.com/assets/colab-badge.svg\" alt=\"Open In Colab\"/></a>"
      ]
    },
    {
      "cell_type": "markdown",
      "source": [
        "# **Problemas de Distribución de Poisson y Binomial**\n",
        "\n",
        "---\n",
        "\n",
        "\n",
        "\n",
        "\n",
        "\n",
        "\n"
      ],
      "metadata": {
        "id": "Tt4u51VN-MeJ"
      }
    },
    {
      "cell_type": "markdown",
      "source": [
        "# **Problema 1**\n",
        "#### Antes de resolver el problema especificar si la solucion es de tipo Binomial o Poisson y explicar por que.\n",
        "##### Realizar un programa en Python que resuelva el sigueinte problema:\n",
        "*   El número x de personas ingresadas a una unidad de cuidados intensivos en un hospital particular, en un dia, tiene una distribucion de probabilidad de Poisson con media igual a 5 personas por dia.\n",
        "*   ¿Cuál es la probabilidad de que el número de personas ingresadas a una unidad de cuidados intensivos en un hospital particular, en un dia particular, osea 2?\n",
        "*   ¿Es probable que x exceda de 10? Explicar"
      ],
      "metadata": {
        "id": "FsFBTvHo-G3_"
      }
    },
    {
      "cell_type": "markdown",
      "source": [
        "## **Explicacion si es Binomial o Poisson**\n",
        "\n",
        "#### -Es de Poisson ya que estamos contando el número de veces que ocurre un evento (ingresos a cuidados intensivos) en un intervalo de tiempo fijo (un día).\n",
        "#### -También se conoce una tasa media de ocurrencia (λ=5).\n",
        "#### -Además los eventos son independientes y raros, y no existe un número maximo de intentos.\n",
        "\n"
      ],
      "metadata": {
        "id": "SqITF1E5GvNF"
      }
    },
    {
      "cell_type": "code",
      "execution_count": 1,
      "metadata": {
        "id": "jgIk9asZzQjT"
      },
      "outputs": [],
      "source": [
        "import math\n",
        "from scipy.stats import poisson"
      ]
    },
    {
      "cell_type": "code",
      "source": [
        "# Parámetro de Poisson\n",
        "lambda_poisson = 5\n",
        "\n",
        "# a) Probabilidad de que ingresen exactamente 2 personas\n",
        "k = 2\n",
        "probabilidad_a = poisson.pmf(k, mu=lambda_poisson)\n",
        "\n",
        "print(f\"a) La probabilidad de que ingresen exactamente 2 personas es: {probabilidad_a:.4f}\")"
      ],
      "metadata": {
        "colab": {
          "base_uri": "https://localhost:8080/"
        },
        "id": "mbepW1wRzeqC",
        "outputId": "d01b0dcb-8fd1-46d7-bb1c-440485befd24"
      },
      "execution_count": 2,
      "outputs": [
        {
          "output_type": "stream",
          "name": "stdout",
          "text": [
            "a) La probabilidad de que ingresen exactamente 2 personas es: 0.0842\n"
          ]
        }
      ]
    },
    {
      "cell_type": "code",
      "source": [
        "# b) Probabilidad de que X > 10\n",
        "probabilidad_b = 1 - poisson.cdf(10, mu=lambda_poisson)\n",
        "print(f\"b) La probabilidad de que ingresen más de 10 personas es: {probabilidad_b:.4f}\")\n",
        "\n",
        "if probabilidad_b > 0.05:\n",
        "    print(\"-Es algo probable que se exceda de 10 ingresos en un día.\")\n",
        "else:\n",
        "    print(\"-No es muy probable que se exceda de 10 ingresos en un día.\")"
      ],
      "metadata": {
        "colab": {
          "base_uri": "https://localhost:8080/"
        },
        "id": "Mf6NhCyWziF5",
        "outputId": "100f3308-d017-4dc2-8be3-d8a60931e32a"
      },
      "execution_count": 3,
      "outputs": [
        {
          "output_type": "stream",
          "name": "stdout",
          "text": [
            "b) La probabilidad de que ingresen más de 10 personas es: 0.0137\n",
            "-No es muy probable que se exceda de 10 ingresos en un día.\n"
          ]
        }
      ]
    },
    {
      "cell_type": "markdown",
      "source": [
        "# **Pregunta a)**\n",
        "\n",
        "Usamos la fórmula de Poisson:\n",
        "\n",
        "𝑃\n",
        "(\n",
        "𝑋\n",
        "=\n",
        "2\n",
        ")\n",
        "=\n",
        "𝑒\n",
        "^{-5}\n",
        "⋅\n",
        "5\n",
        "^{-2}/\n",
        "2\n",
        "!\n",
        "≈\n",
        "0.0842\n",
        "\n",
        "##### Por lo tanto la respuesta es: La probabilidad de que ingresen exactamente 2 personas en un día es aproximadamente 0.0842 (8.42%).\n",
        "\n",
        "---\n",
        "\n"
      ],
      "metadata": {
        "id": "qwKMMw0MBENw"
      }
    },
    {
      "cell_type": "markdown",
      "source": [
        "# **Pregunta b)**\n",
        "\n",
        "#### Calculamos: P(X>10)=1−P(X≤10):\n",
        "\n",
        "## P(X > 10) ≈ 1 − 0.9863 = 0.0137\n",
        "##### La respuesta es: La probabilidad de que ingresen más de 10 personas en un día es aproximadamente 0.0137 (1.37%), lo cual es muy poco probable."
      ],
      "metadata": {
        "id": "KAS24PyyCIoe"
      }
    },
    {
      "cell_type": "markdown",
      "source": [
        "---\n",
        "\n",
        "# **Problema 2**\n",
        "\n",
        "#### Antes de resolver el problema especificar si la solucion es de tipo Binomial o Poisson y explicar por que.\n",
        "##### Realizar un programa en Python que resuelva el sigueinte problema:\n",
        "\n",
        "*   Un fabricante de podadoras para el pasto compra motores de 1 hp y 2 ciclos, en lotes de 1000, a un proveedor.\n",
        "*   El fabricante equipa cada una de las podadoras producidas por su planta con uno de los motores.\n",
        "*   La historia muestra que la probabilidad de que cualquier motor del proveedor resulte no satisfactorio es .001.\n",
        "*   **En un embarque de 1000 motores, Calcular:**\n",
        "*   ¿Cuál es la probabilidad de que ninguno sea defectuoso?,\n",
        "*   ¿Cuál es la probabilidad de que tres sean defectuosos?,\n",
        "*   ¿Cuál es la probabilidad de que cuatro sean defectuosos?\n",
        "\n",
        "\n",
        "\n",
        "\n",
        "\n",
        "\n",
        "\n",
        "\n",
        "\n",
        "\n",
        "\n"
      ],
      "metadata": {
        "id": "zuazfwZwn6rN"
      }
    },
    {
      "cell_type": "markdown",
      "source": [
        "## **Explicacion si es Binomial o Poisson**\n",
        "\n",
        "#### -El problema original es Binomial, porque hay un número fijo de intentos (1000 motores), donde cada motor tiene dos posibles resultados: defectuoso o no defectuoso. Su probabilidad de defecto es constante: 𝑝=0.001 y los eventos son independientes.\n",
        "#### -Sin embargo, como **n** es grande (1000) y **p** es muy pequeño (0.001), se puede aproximar la Binomial con una distribución de Poisson:\n",
        "#### Si 𝑛 es grande y 𝑝 es pequeño, con λ=np, entonces:\n",
        "𝐵𝑖𝑛𝑜𝑚𝑖𝑎𝑙(𝑛,𝑝)≈𝑃𝑜𝑖𝑠𝑠𝑜𝑛(𝜆=𝑛𝑝)\n",
        "#### -En este caso, usamos Poisson con λ=1000*0.001=1\n",
        "\n"
      ],
      "metadata": {
        "id": "24fwGkoc-kqV"
      }
    },
    {
      "cell_type": "code",
      "source": [
        "lambda_poisson = 1"
      ],
      "metadata": {
        "id": "F5A5AHZm3oRR"
      },
      "execution_count": 11,
      "outputs": []
    },
    {
      "cell_type": "code",
      "source": [
        "prob_0_defectuosos = poisson.pmf(0, mu=lambda_poisson)\n",
        "print(f\"-Probabilidad de que ningún motor sea defectuoso: {prob_0_defectuosos:.4f}\")\n",
        "\n",
        "prob_3_defectuosos = poisson.pmf(3, mu=lambda_poisson)\n",
        "print(f\"-Probabilidad de que tres motores sean defectuosos: {prob_3_defectuosos:.4f}\")\n",
        "\n",
        "prob_4_defectuosos = poisson.pmf(4, mu=lambda_poisson)\n",
        "print(f\"-Probabilidad de que cuatro motores sean defectuosos: {prob_4_defectuosos:.4f}\")"
      ],
      "metadata": {
        "colab": {
          "base_uri": "https://localhost:8080/"
        },
        "id": "RYV7nhnT4eMd",
        "outputId": "ebc51441-c0f6-4cda-f877-025cec9e389c"
      },
      "execution_count": 12,
      "outputs": [
        {
          "output_type": "stream",
          "name": "stdout",
          "text": [
            "-Probabilidad de que ningún motor sea defectuoso: 0.3679\n",
            "-Probabilidad de que tres motores sean defectuosos: 0.0613\n",
            "-Probabilidad de que cuatro motores sean defectuosos: 0.0153\n"
          ]
        }
      ]
    },
    {
      "cell_type": "markdown",
      "source": [
        "# **Pregunta 1**\n",
        "### *¿Cuál es la probabilidad de que tres motores sean defectuosos?*\n",
        "\n",
        "###Calculamos 𝑃 ( 𝑋 = 0 ) :\n",
        "𝑃(𝑋=0)=𝑒−1⋅1^{0}/0!=𝑒−1≈0.3679\n",
        "\n",
        "#### Por lo tanto, la probabilidad de que ningún motor sea defectuoso es aproximadamente 0.3679 (36.79%).\n",
        "\n",
        "---\n",
        "\n"
      ],
      "metadata": {
        "id": "JS5otRceMKct"
      }
    },
    {
      "cell_type": "markdown",
      "source": [
        "# **Pregunta 2**\n",
        "\n",
        "### *¿Cuál es la probabilidad de que tres motores sean defectuosos?*\n",
        "\n",
        "P(X=3)= e^{−1}⋅1^{3} / 3! = e^{−1}/ 6 ​≈0.0613\n",
        "\n",
        "#### Dicho este calculo, la probabilidad de que tres motores sean defectuosos es aproximadamente 0.0613 (6.13%).\n",
        "\n",
        "---\n",
        "\n",
        "\n"
      ],
      "metadata": {
        "id": "pTu9ykRiN38V"
      }
    },
    {
      "cell_type": "markdown",
      "source": [
        "# **Pregunta 3**\n",
        "\n",
        "### *¿Cuál es la probabilidad de que cuatro motores sean defectuosos?*\n",
        "\n",
        "P(X=4) = e ^{−1}*1 ^{4} / 4! ​= e ^{−1} / 24​ ≈ 0.0153\n",
        "\n",
        "#### Dicho de esta formula la probabilidad de que cuatro motores sean defectuosos es aproximadamente 0.0153 (1.53%)."
      ],
      "metadata": {
        "id": "Ld3WiWITPaBG"
      }
    }
  ]
}